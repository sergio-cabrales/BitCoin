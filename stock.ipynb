{
  "nbformat": 4,
  "nbformat_minor": 0,
  "metadata": {
    "colab": {
      "name": "stock.ipynb",
      "provenance": [],
      "authorship_tag": "ABX9TyP5D94od+Bpig/C4acjlNJW",
      "include_colab_link": true
    },
    "kernelspec": {
      "name": "python3",
      "display_name": "Python 3"
    }
  },
  "cells": [
    {
      "cell_type": "markdown",
      "metadata": {
        "id": "view-in-github",
        "colab_type": "text"
      },
      "source": [
        "<a href=\"https://colab.research.google.com/github/sergio-cabrales/BitCoin/blob/master/stock.ipynb\" target=\"_parent\"><img src=\"https://colab.research.google.com/assets/colab-badge.svg\" alt=\"Open In Colab\"/></a>"
      ]
    },
    {
      "cell_type": "code",
      "metadata": {
        "colab": {
          "base_uri": "https://localhost:8080/"
        },
        "id": "shOcX8jdT4cG",
        "outputId": "59170416-68ee-442f-acb3-e9f5df145952"
      },
      "source": [
        "pip install pandas-datareader"
      ],
      "execution_count": 1,
      "outputs": [
        {
          "output_type": "stream",
          "text": [
            "Requirement already satisfied: pandas-datareader in /usr/local/lib/python3.7/dist-packages (0.9.0)\n",
            "Requirement already satisfied: lxml in /usr/local/lib/python3.7/dist-packages (from pandas-datareader) (4.2.6)\n",
            "Requirement already satisfied: requests>=2.19.0 in /usr/local/lib/python3.7/dist-packages (from pandas-datareader) (2.23.0)\n",
            "Requirement already satisfied: pandas>=0.23 in /usr/local/lib/python3.7/dist-packages (from pandas-datareader) (1.1.5)\n",
            "Requirement already satisfied: idna<3,>=2.5 in /usr/local/lib/python3.7/dist-packages (from requests>=2.19.0->pandas-datareader) (2.10)\n",
            "Requirement already satisfied: chardet<4,>=3.0.2 in /usr/local/lib/python3.7/dist-packages (from requests>=2.19.0->pandas-datareader) (3.0.4)\n",
            "Requirement already satisfied: certifi>=2017.4.17 in /usr/local/lib/python3.7/dist-packages (from requests>=2.19.0->pandas-datareader) (2020.12.5)\n",
            "Requirement already satisfied: urllib3!=1.25.0,!=1.25.1,<1.26,>=1.21.1 in /usr/local/lib/python3.7/dist-packages (from requests>=2.19.0->pandas-datareader) (1.24.3)\n",
            "Requirement already satisfied: python-dateutil>=2.7.3 in /usr/local/lib/python3.7/dist-packages (from pandas>=0.23->pandas-datareader) (2.8.1)\n",
            "Requirement already satisfied: pytz>=2017.2 in /usr/local/lib/python3.7/dist-packages (from pandas>=0.23->pandas-datareader) (2018.9)\n",
            "Requirement already satisfied: numpy>=1.15.4 in /usr/local/lib/python3.7/dist-packages (from pandas>=0.23->pandas-datareader) (1.19.5)\n",
            "Requirement already satisfied: six>=1.5 in /usr/local/lib/python3.7/dist-packages (from python-dateutil>=2.7.3->pandas>=0.23->pandas-datareader) (1.15.0)\n"
          ],
          "name": "stdout"
        }
      ]
    },
    {
      "cell_type": "markdown",
      "metadata": {
        "id": "NfDabEIOUunZ"
      },
      "source": [
        "import quandl\r\n",
        "mydata = quandl.get(\"FRED/GDP\")"
      ]
    },
    {
      "cell_type": "code",
      "metadata": {
        "id": "m5RbWyAtUD0q"
      },
      "source": [
        "import pandas_datareader as pdr\r\n",
        "import datetime \r\n",
        "aapl = pdr.get_data_yahoo('AAPL',start=datetime.datetime(2010, 1, 1), end=datetime.datetime(2021, 1, 1))"
      ],
      "execution_count": 9,
      "outputs": []
    },
    {
      "cell_type": "code",
      "metadata": {
        "colab": {
          "base_uri": "https://localhost:8080/"
        },
        "id": "n7R4UqPzUPpf",
        "outputId": "fc94b817-366e-4f58-90ba-f9f2e1503ea0"
      },
      "source": [
        "print(aapl)"
      ],
      "execution_count": 10,
      "outputs": [
        {
          "output_type": "stream",
          "text": [
            "                  High         Low  ...       Volume   Adj Close\n",
            "Date                                ...                         \n",
            "2010-01-04    7.660714    7.585000  ...  493729600.0    6.583586\n",
            "2010-01-05    7.699643    7.616071  ...  601904800.0    6.594968\n",
            "2010-01-06    7.686786    7.526786  ...  552160000.0    6.490066\n",
            "2010-01-07    7.571429    7.466071  ...  477131200.0    6.478067\n",
            "2010-01-08    7.571429    7.466429  ...  447610800.0    6.521136\n",
            "...                ...         ...  ...          ...         ...\n",
            "2020-12-24  133.460007  131.100006  ...   54930100.0  131.773087\n",
            "2020-12-28  137.339996  133.509995  ...  124486200.0  136.486053\n",
            "2020-12-29  138.789993  134.339996  ...  121047300.0  134.668762\n",
            "2020-12-30  135.990005  133.399994  ...   96452100.0  133.520477\n",
            "2020-12-31  134.740005  131.720001  ...   99116600.0  132.492020\n",
            "\n",
            "[2769 rows x 6 columns]\n"
          ],
          "name": "stdout"
        }
      ]
    },
    {
      "cell_type": "code",
      "metadata": {
        "colab": {
          "base_uri": "https://localhost:8080/",
          "height": 235
        },
        "id": "QGSQnwtsVpO_",
        "outputId": "37907101-2cab-410b-8f1b-0f477cbd0a4f"
      },
      "source": [
        "aapl.head()"
      ],
      "execution_count": 14,
      "outputs": [
        {
          "output_type": "execute_result",
          "data": {
            "text/html": [
              "<div>\n",
              "<style scoped>\n",
              "    .dataframe tbody tr th:only-of-type {\n",
              "        vertical-align: middle;\n",
              "    }\n",
              "\n",
              "    .dataframe tbody tr th {\n",
              "        vertical-align: top;\n",
              "    }\n",
              "\n",
              "    .dataframe thead th {\n",
              "        text-align: right;\n",
              "    }\n",
              "</style>\n",
              "<table border=\"1\" class=\"dataframe\">\n",
              "  <thead>\n",
              "    <tr style=\"text-align: right;\">\n",
              "      <th></th>\n",
              "      <th>High</th>\n",
              "      <th>Low</th>\n",
              "      <th>Open</th>\n",
              "      <th>Close</th>\n",
              "      <th>Volume</th>\n",
              "      <th>Adj Close</th>\n",
              "    </tr>\n",
              "    <tr>\n",
              "      <th>Date</th>\n",
              "      <th></th>\n",
              "      <th></th>\n",
              "      <th></th>\n",
              "      <th></th>\n",
              "      <th></th>\n",
              "      <th></th>\n",
              "    </tr>\n",
              "  </thead>\n",
              "  <tbody>\n",
              "    <tr>\n",
              "      <th>2010-01-04</th>\n",
              "      <td>7.660714</td>\n",
              "      <td>7.585000</td>\n",
              "      <td>7.622500</td>\n",
              "      <td>7.643214</td>\n",
              "      <td>493729600.0</td>\n",
              "      <td>6.583586</td>\n",
              "    </tr>\n",
              "    <tr>\n",
              "      <th>2010-01-05</th>\n",
              "      <td>7.699643</td>\n",
              "      <td>7.616071</td>\n",
              "      <td>7.664286</td>\n",
              "      <td>7.656429</td>\n",
              "      <td>601904800.0</td>\n",
              "      <td>6.594968</td>\n",
              "    </tr>\n",
              "    <tr>\n",
              "      <th>2010-01-06</th>\n",
              "      <td>7.686786</td>\n",
              "      <td>7.526786</td>\n",
              "      <td>7.656429</td>\n",
              "      <td>7.534643</td>\n",
              "      <td>552160000.0</td>\n",
              "      <td>6.490066</td>\n",
              "    </tr>\n",
              "    <tr>\n",
              "      <th>2010-01-07</th>\n",
              "      <td>7.571429</td>\n",
              "      <td>7.466071</td>\n",
              "      <td>7.562500</td>\n",
              "      <td>7.520714</td>\n",
              "      <td>477131200.0</td>\n",
              "      <td>6.478067</td>\n",
              "    </tr>\n",
              "    <tr>\n",
              "      <th>2010-01-08</th>\n",
              "      <td>7.571429</td>\n",
              "      <td>7.466429</td>\n",
              "      <td>7.510714</td>\n",
              "      <td>7.570714</td>\n",
              "      <td>447610800.0</td>\n",
              "      <td>6.521136</td>\n",
              "    </tr>\n",
              "  </tbody>\n",
              "</table>\n",
              "</div>"
            ],
            "text/plain": [
              "                High       Low      Open     Close       Volume  Adj Close\n",
              "Date                                                                      \n",
              "2010-01-04  7.660714  7.585000  7.622500  7.643214  493729600.0   6.583586\n",
              "2010-01-05  7.699643  7.616071  7.664286  7.656429  601904800.0   6.594968\n",
              "2010-01-06  7.686786  7.526786  7.656429  7.534643  552160000.0   6.490066\n",
              "2010-01-07  7.571429  7.466071  7.562500  7.520714  477131200.0   6.478067\n",
              "2010-01-08  7.571429  7.466429  7.510714  7.570714  447610800.0   6.521136"
            ]
          },
          "metadata": {
            "tags": []
          },
          "execution_count": 14
        }
      ]
    },
    {
      "cell_type": "code",
      "metadata": {
        "colab": {
          "base_uri": "https://localhost:8080/",
          "height": 235
        },
        "id": "wPPumAOzZ-EN",
        "outputId": "20d5c89d-ce1b-4ee6-cb20-beed3a6d2286"
      },
      "source": [
        "aapl.tail()"
      ],
      "execution_count": 15,
      "outputs": [
        {
          "output_type": "execute_result",
          "data": {
            "text/html": [
              "<div>\n",
              "<style scoped>\n",
              "    .dataframe tbody tr th:only-of-type {\n",
              "        vertical-align: middle;\n",
              "    }\n",
              "\n",
              "    .dataframe tbody tr th {\n",
              "        vertical-align: top;\n",
              "    }\n",
              "\n",
              "    .dataframe thead th {\n",
              "        text-align: right;\n",
              "    }\n",
              "</style>\n",
              "<table border=\"1\" class=\"dataframe\">\n",
              "  <thead>\n",
              "    <tr style=\"text-align: right;\">\n",
              "      <th></th>\n",
              "      <th>High</th>\n",
              "      <th>Low</th>\n",
              "      <th>Open</th>\n",
              "      <th>Close</th>\n",
              "      <th>Volume</th>\n",
              "      <th>Adj Close</th>\n",
              "    </tr>\n",
              "    <tr>\n",
              "      <th>Date</th>\n",
              "      <th></th>\n",
              "      <th></th>\n",
              "      <th></th>\n",
              "      <th></th>\n",
              "      <th></th>\n",
              "      <th></th>\n",
              "    </tr>\n",
              "  </thead>\n",
              "  <tbody>\n",
              "    <tr>\n",
              "      <th>2020-12-24</th>\n",
              "      <td>133.460007</td>\n",
              "      <td>131.100006</td>\n",
              "      <td>131.320007</td>\n",
              "      <td>131.970001</td>\n",
              "      <td>54930100.0</td>\n",
              "      <td>131.773087</td>\n",
              "    </tr>\n",
              "    <tr>\n",
              "      <th>2020-12-28</th>\n",
              "      <td>137.339996</td>\n",
              "      <td>133.509995</td>\n",
              "      <td>133.990005</td>\n",
              "      <td>136.690002</td>\n",
              "      <td>124486200.0</td>\n",
              "      <td>136.486053</td>\n",
              "    </tr>\n",
              "    <tr>\n",
              "      <th>2020-12-29</th>\n",
              "      <td>138.789993</td>\n",
              "      <td>134.339996</td>\n",
              "      <td>138.050003</td>\n",
              "      <td>134.869995</td>\n",
              "      <td>121047300.0</td>\n",
              "      <td>134.668762</td>\n",
              "    </tr>\n",
              "    <tr>\n",
              "      <th>2020-12-30</th>\n",
              "      <td>135.990005</td>\n",
              "      <td>133.399994</td>\n",
              "      <td>135.580002</td>\n",
              "      <td>133.720001</td>\n",
              "      <td>96452100.0</td>\n",
              "      <td>133.520477</td>\n",
              "    </tr>\n",
              "    <tr>\n",
              "      <th>2020-12-31</th>\n",
              "      <td>134.740005</td>\n",
              "      <td>131.720001</td>\n",
              "      <td>134.080002</td>\n",
              "      <td>132.690002</td>\n",
              "      <td>99116600.0</td>\n",
              "      <td>132.492020</td>\n",
              "    </tr>\n",
              "  </tbody>\n",
              "</table>\n",
              "</div>"
            ],
            "text/plain": [
              "                  High         Low  ...       Volume   Adj Close\n",
              "Date                                ...                         \n",
              "2020-12-24  133.460007  131.100006  ...   54930100.0  131.773087\n",
              "2020-12-28  137.339996  133.509995  ...  124486200.0  136.486053\n",
              "2020-12-29  138.789993  134.339996  ...  121047300.0  134.668762\n",
              "2020-12-30  135.990005  133.399994  ...   96452100.0  133.520477\n",
              "2020-12-31  134.740005  131.720001  ...   99116600.0  132.492020\n",
              "\n",
              "[5 rows x 6 columns]"
            ]
          },
          "metadata": {
            "tags": []
          },
          "execution_count": 15
        }
      ]
    },
    {
      "cell_type": "code",
      "metadata": {
        "colab": {
          "base_uri": "https://localhost:8080/",
          "height": 297
        },
        "id": "2tOETlvYaR4C",
        "outputId": "894bd4c3-e70d-40e8-c7c9-fee099848c59"
      },
      "source": [
        "aapl.describe()"
      ],
      "execution_count": 16,
      "outputs": [
        {
          "output_type": "execute_result",
          "data": {
            "text/html": [
              "<div>\n",
              "<style scoped>\n",
              "    .dataframe tbody tr th:only-of-type {\n",
              "        vertical-align: middle;\n",
              "    }\n",
              "\n",
              "    .dataframe tbody tr th {\n",
              "        vertical-align: top;\n",
              "    }\n",
              "\n",
              "    .dataframe thead th {\n",
              "        text-align: right;\n",
              "    }\n",
              "</style>\n",
              "<table border=\"1\" class=\"dataframe\">\n",
              "  <thead>\n",
              "    <tr style=\"text-align: right;\">\n",
              "      <th></th>\n",
              "      <th>High</th>\n",
              "      <th>Low</th>\n",
              "      <th>Open</th>\n",
              "      <th>Close</th>\n",
              "      <th>Volume</th>\n",
              "      <th>Adj Close</th>\n",
              "    </tr>\n",
              "  </thead>\n",
              "  <tbody>\n",
              "    <tr>\n",
              "      <th>count</th>\n",
              "      <td>2769.000000</td>\n",
              "      <td>2769.000000</td>\n",
              "      <td>2769.000000</td>\n",
              "      <td>2769.000000</td>\n",
              "      <td>2.769000e+03</td>\n",
              "      <td>2769.000000</td>\n",
              "    </tr>\n",
              "    <tr>\n",
              "      <th>mean</th>\n",
              "      <td>34.114230</td>\n",
              "      <td>33.413543</td>\n",
              "      <td>33.764375</td>\n",
              "      <td>33.777537</td>\n",
              "      <td>2.866177e+08</td>\n",
              "      <td>32.072065</td>\n",
              "    </tr>\n",
              "    <tr>\n",
              "      <th>std</th>\n",
              "      <td>24.895185</td>\n",
              "      <td>24.220789</td>\n",
              "      <td>24.561595</td>\n",
              "      <td>24.572747</td>\n",
              "      <td>2.289451e+08</td>\n",
              "      <td>25.012138</td>\n",
              "    </tr>\n",
              "    <tr>\n",
              "      <th>min</th>\n",
              "      <td>7.000000</td>\n",
              "      <td>6.794643</td>\n",
              "      <td>6.870357</td>\n",
              "      <td>6.858929</td>\n",
              "      <td>4.544800e+07</td>\n",
              "      <td>5.908031</td>\n",
              "    </tr>\n",
              "    <tr>\n",
              "      <th>25%</th>\n",
              "      <td>17.695356</td>\n",
              "      <td>17.333929</td>\n",
              "      <td>17.518213</td>\n",
              "      <td>17.484285</td>\n",
              "      <td>1.211120e+08</td>\n",
              "      <td>15.446707</td>\n",
              "    </tr>\n",
              "    <tr>\n",
              "      <th>50%</th>\n",
              "      <td>27.225000</td>\n",
              "      <td>26.705000</td>\n",
              "      <td>26.975000</td>\n",
              "      <td>26.987499</td>\n",
              "      <td>2.029972e+08</td>\n",
              "      <td>24.945536</td>\n",
              "    </tr>\n",
              "    <tr>\n",
              "      <th>75%</th>\n",
              "      <td>43.367500</td>\n",
              "      <td>42.605000</td>\n",
              "      <td>43.012501</td>\n",
              "      <td>43.007500</td>\n",
              "      <td>3.890376e+08</td>\n",
              "      <td>41.592369</td>\n",
              "    </tr>\n",
              "    <tr>\n",
              "      <th>max</th>\n",
              "      <td>138.789993</td>\n",
              "      <td>134.339996</td>\n",
              "      <td>138.050003</td>\n",
              "      <td>136.690002</td>\n",
              "      <td>1.880998e+09</td>\n",
              "      <td>136.486053</td>\n",
              "    </tr>\n",
              "  </tbody>\n",
              "</table>\n",
              "</div>"
            ],
            "text/plain": [
              "              High          Low  ...        Volume    Adj Close\n",
              "count  2769.000000  2769.000000  ...  2.769000e+03  2769.000000\n",
              "mean     34.114230    33.413543  ...  2.866177e+08    32.072065\n",
              "std      24.895185    24.220789  ...  2.289451e+08    25.012138\n",
              "min       7.000000     6.794643  ...  4.544800e+07     5.908031\n",
              "25%      17.695356    17.333929  ...  1.211120e+08    15.446707\n",
              "50%      27.225000    26.705000  ...  2.029972e+08    24.945536\n",
              "75%      43.367500    42.605000  ...  3.890376e+08    41.592369\n",
              "max     138.789993   134.339996  ...  1.880998e+09   136.486053\n",
              "\n",
              "[8 rows x 6 columns]"
            ]
          },
          "metadata": {
            "tags": []
          },
          "execution_count": 16
        }
      ]
    },
    {
      "cell_type": "code",
      "metadata": {
        "colab": {
          "base_uri": "https://localhost:8080/"
        },
        "id": "SH0d_NZQagg7",
        "outputId": "4b01a24c-4513-4e40-9c08-e4df40b6c2ba"
      },
      "source": [
        "# Inspect the index \r\n",
        "aapl.index"
      ],
      "execution_count": 18,
      "outputs": [
        {
          "output_type": "execute_result",
          "data": {
            "text/plain": [
              "pandas.core.series.Series"
            ]
          },
          "metadata": {
            "tags": []
          },
          "execution_count": 18
        }
      ]
    },
    {
      "cell_type": "code",
      "metadata": {
        "colab": {
          "base_uri": "https://localhost:8080/"
        },
        "id": "muecxGcObAhj",
        "outputId": "3b08730b-edda-4537-d4d1-1568f8d2b0af"
      },
      "source": [
        "# Inspect the columns\r\n",
        "aapl.columns"
      ],
      "execution_count": 20,
      "outputs": [
        {
          "output_type": "execute_result",
          "data": {
            "text/plain": [
              "Index(['High', 'Low', 'Open', 'Close', 'Volume', 'Adj Close'], dtype='object')"
            ]
          },
          "metadata": {
            "tags": []
          },
          "execution_count": 20
        }
      ]
    },
    {
      "cell_type": "code",
      "metadata": {
        "id": "IUfKc3rHbKdC"
      },
      "source": [
        "# Select only the last 10 observations of `Close`\r\n",
        "ts = aapl['Close'][-10:]"
      ],
      "execution_count": 22,
      "outputs": []
    },
    {
      "cell_type": "code",
      "metadata": {
        "colab": {
          "base_uri": "https://localhost:8080/"
        },
        "id": "iPYlzRlcbP08",
        "outputId": "45470af6-9e01-48eb-f72f-b7c4127365a4"
      },
      "source": [
        "# Check the type of `ts` \r\n",
        "type(ts)"
      ],
      "execution_count": 23,
      "outputs": [
        {
          "output_type": "execute_result",
          "data": {
            "text/plain": [
              "pandas.core.series.Series"
            ]
          },
          "metadata": {
            "tags": []
          },
          "execution_count": 23
        }
      ]
    },
    {
      "cell_type": "code",
      "metadata": {
        "colab": {
          "base_uri": "https://localhost:8080/"
        },
        "id": "KtUv5aVAbTke",
        "outputId": "5ac46145-93c7-4431-e563-fc97f75a5294"
      },
      "source": [
        "# Inspect November 2006\r\n",
        "print(aapl.iloc[22:43])"
      ],
      "execution_count": 27,
      "outputs": [
        {
          "output_type": "stream",
          "text": [
            "                High       Low      Open     Close       Volume  Adj Close\n",
            "Date                                                                      \n",
            "2010-02-04  7.084643  6.841786  7.026071  6.858929  757652000.0   5.908031\n",
            "2010-02-05  7.000000  6.816071  6.879643  6.980714  850306800.0   6.012933\n",
            "2010-02-08  7.067143  6.928571  6.988929  6.932857  478270800.0   5.971709\n",
            "2010-02-09  7.053571  6.955357  7.015000  7.006786  632886800.0   6.035388\n",
            "2010-02-10  7.021429  6.937857  6.996071  6.968571  370361600.0   6.002471\n",
            "2010-02-11  7.133929  6.930714  6.960000  7.095357  550345600.0   6.111681\n",
            "2010-02-12  7.201429  6.982143  7.075357  7.156429  655468800.0   6.164287\n",
            "2010-02-16  7.274643  7.197143  7.212143  7.264286  543737600.0   6.257191\n",
            "2010-02-17  7.296786  7.173571  7.292500  7.233929  436396800.0   6.231041\n",
            "2010-02-18  7.281786  7.175714  7.201071  7.247500  422825200.0   6.242731\n",
            "2010-02-19  7.257143  7.182500  7.209286  7.202500  415469600.0   6.203969\n",
            "2010-02-22  7.232143  7.113929  7.226429  7.157857  390563600.0   6.165515\n",
            "2010-02-23  7.190357  6.989643  7.142857  7.037857  575094800.0   6.062153\n",
            "2010-02-24  7.194286  7.065714  7.079643  7.166429  460566400.0   6.172900\n",
            "2010-02-25  7.245000  7.031786  7.049286  7.214286  665126000.0   6.214124\n",
            "2010-02-26  7.327500  7.214286  7.227857  7.307857  507460800.0   6.294721\n",
            "2010-03-01  7.482143  7.337500  7.348214  7.463929  550093600.0   6.429156\n",
            "2010-03-02  7.529643  7.419286  7.497500  7.458929  566546400.0   6.424848\n",
            "2010-03-03  7.495357  7.426429  7.462143  7.476071  372052800.0   6.439613\n",
            "2010-03-04  7.532857  7.451071  7.474286  7.525357  366041200.0   6.482066\n",
            "2010-03-05  7.846429  7.665357  7.676429  7.819643  899620400.0   6.735554\n"
          ],
          "name": "stdout"
        }
      ]
    },
    {
      "cell_type": "code",
      "metadata": {
        "colab": {
          "base_uri": "https://localhost:8080/"
        },
        "id": "OV3FlKZ-btIV",
        "outputId": "32eaf921-2a81-43cb-b679-9fb099426070"
      },
      "source": [
        "# Inspect the 'Open' and 'Close' values at 2006-11-01 and 2006-12-01\r\n",
        "print(aapl.iloc[[22,43], [0, 3]])"
      ],
      "execution_count": 28,
      "outputs": [
        {
          "output_type": "stream",
          "text": [
            "                High     Close\n",
            "Date                          \n",
            "2010-02-04  7.084643  6.858929\n",
            "2010-03-08  7.860357  7.824286\n"
          ],
          "name": "stdout"
        }
      ]
    },
    {
      "cell_type": "code",
      "metadata": {
        "colab": {
          "base_uri": "https://localhost:8080/"
        },
        "id": "JcJumxaRb6QL",
        "outputId": "bf125cb4-b90d-4607-8cd5-b091d1934718"
      },
      "source": [
        "# Sample 20 rows\r\n",
        "sample = aapl.sample(20)\r\n",
        "\r\n",
        "# Print `sample`\r\n",
        "print(sample)"
      ],
      "execution_count": 29,
      "outputs": [
        {
          "output_type": "stream",
          "text": [
            "                  High         Low  ...       Volume   Adj Close\n",
            "Date                                ...                         \n",
            "2011-05-10   12.488929   12.380714  ...  282091600.0   10.750122\n",
            "2016-12-21   29.350000   29.195000  ...   95132800.0   27.675074\n",
            "2012-04-18   22.151787   21.525356  ...  954531200.0   18.714354\n",
            "2011-05-25   12.091429   11.887500  ...  294224000.0   10.360356\n",
            "2016-06-30   23.942499   23.575001  ...  143345600.0   22.364946\n",
            "2014-10-28   26.684999   26.337500  ...  192243600.0   24.167643\n",
            "2011-01-11   12.320000   12.123929  ...  444108000.0   10.509866\n",
            "2014-06-13   23.110001   22.719999  ...  218100000.0   20.564962\n",
            "2015-11-02   30.340000   29.902500  ...  128813200.0   27.906120\n",
            "2011-10-12   14.616071   14.290714  ...  622286000.0   12.372562\n",
            "2020-09-08  118.989998  112.680000  ...  231366600.0  112.457649\n",
            "2017-06-28   36.527500   35.790001  ...   88329600.0   34.769218\n",
            "2011-08-26   13.707143   13.242857  ...  641477200.0   11.800060\n",
            "2013-10-24   19.016787   18.658930  ...  384764800.0   16.824930\n",
            "2010-03-02    7.529643    7.419286  ...  566546400.0    6.424848\n",
            "2011-07-14   12.914643   12.726429  ...  430533600.0   11.006072\n",
            "2014-06-17   23.174999   22.950001  ...  118904000.0   20.745197\n",
            "2017-05-12   39.105000   38.667500  ...  130108000.0   37.217823\n",
            "2013-05-28   16.111071   15.744643  ...  386145200.0   13.871668\n",
            "2018-09-11   56.075001   54.139999  ...  142996000.0   54.390709\n",
            "\n",
            "[20 rows x 6 columns]\n"
          ],
          "name": "stdout"
        }
      ]
    },
    {
      "cell_type": "code",
      "metadata": {
        "colab": {
          "base_uri": "https://localhost:8080/"
        },
        "id": "tKh6DFhncOng",
        "outputId": "6c7b220f-d14a-4e04-883b-e56bc51f756e"
      },
      "source": [
        "# Add a column `diff` to `aapl` \r\n",
        "aapl['diff'] = aapl.Open - aapl.Close\r\n",
        "\r\n",
        "print(aapl)"
      ],
      "execution_count": 31,
      "outputs": [
        {
          "output_type": "stream",
          "text": [
            "                  High         Low  ...   Adj Close      diff\n",
            "Date                                ...                      \n",
            "2010-01-04    7.660714    7.585000  ...    6.583586 -0.020714\n",
            "2010-01-05    7.699643    7.616071  ...    6.594968  0.007857\n",
            "2010-01-06    7.686786    7.526786  ...    6.490066  0.121786\n",
            "2010-01-07    7.571429    7.466071  ...    6.478067  0.041786\n",
            "2010-01-08    7.571429    7.466429  ...    6.521136 -0.060000\n",
            "...                ...         ...  ...         ...       ...\n",
            "2020-12-24  133.460007  131.100006  ...  131.773087 -0.649994\n",
            "2020-12-28  137.339996  133.509995  ...  136.486053 -2.699997\n",
            "2020-12-29  138.789993  134.339996  ...  134.668762  3.180008\n",
            "2020-12-30  135.990005  133.399994  ...  133.520477  1.860001\n",
            "2020-12-31  134.740005  131.720001  ...  132.492020  1.389999\n",
            "\n",
            "[2769 rows x 7 columns]\n"
          ],
          "name": "stdout"
        }
      ]
    },
    {
      "cell_type": "code",
      "metadata": {
        "colab": {
          "base_uri": "https://localhost:8080/",
          "height": 269
        },
        "id": "0exklMZycZIv",
        "outputId": "2788b767-c040-4067-c120-c42248acd846"
      },
      "source": [
        "# Import Matplotlib's `pyplot` module as `plt`\r\n",
        "import matplotlib.pyplot as plt\r\n",
        "\r\n",
        "# Plot the closing prices for `aapl`\r\n",
        "aapl['Close'].plot(grid=True)\r\n",
        "\r\n",
        "# Show the plot\r\n",
        "plt.show()"
      ],
      "execution_count": 32,
      "outputs": [
        {
          "output_type": "display_data",
          "data": {
            "image/png": "[encoded data removed]",
            "text/plain": [
              "<Figure size 432x288 with 1 Axes>"
            ]
          },
          "metadata": {
            "tags": [],
            "needs_background": "light"
          }
        }
      ]
    },
    {
      "cell_type": "code",
      "metadata": {
        "colab": {
          "base_uri": "https://localhost:8080/"
        },
        "id": "h234ZCqact13",
        "outputId": "550f6003-04ec-4509-fb89-2c091c2c6d52"
      },
      "source": [
        "# Import `numpy` as `np`\r\n",
        "import numpy as np\r\n",
        "\r\n",
        "# Assign `Adj Close` to `daily_close`\r\n",
        "daily_close = aapl[['Adj Close']]\r\n",
        "\r\n",
        "# Daily returns\r\n",
        "daily_pct_change = daily_close.pct_change()\r\n",
        "\r\n",
        "# Replace NA values with 0\r\n",
        "daily_pct_change.fillna(0, inplace=True)\r\n",
        "\r\n",
        "# Inspect daily returns\r\n",
        "print(daily_pct_change)\r\n",
        "\r\n",
        "# Daily log returns\r\n",
        "daily_log_returns = np.log(daily_close.pct_change()+1)\r\n",
        "\r\n",
        "# Print daily log returns\r\n",
        "print(daily_log_returns)"
      ],
      "execution_count": 33,
      "outputs": [
        {
          "output_type": "stream",
          "text": [
            "            Adj Close\n",
            "Date                 \n",
            "2010-01-04   0.000000\n",
            "2010-01-05   0.001729\n",
            "2010-01-06  -0.015906\n",
            "2010-01-07  -0.001849\n",
            "2010-01-08   0.006648\n",
            "...               ...\n",
            "2020-12-24   0.007712\n",
            "2020-12-28   0.035766\n",
            "2020-12-29  -0.013315\n",
            "2020-12-30  -0.008527\n",
            "2020-12-31  -0.007703\n",
            "\n",
            "[2769 rows x 1 columns]\n",
            "            Adj Close\n",
            "Date                 \n",
            "2010-01-04        NaN\n",
            "2010-01-05   0.001727\n",
            "2010-01-06  -0.016034\n",
            "2010-01-07  -0.001850\n",
            "2010-01-08   0.006626\n",
            "...               ...\n",
            "2020-12-24   0.007683\n",
            "2020-12-28   0.035141\n",
            "2020-12-29  -0.013404\n",
            "2020-12-30  -0.008563\n",
            "2020-12-31  -0.007732\n",
            "\n",
            "[2769 rows x 1 columns]\n"
          ],
          "name": "stdout"
        }
      ]
    },
    {
      "cell_type": "code",
      "metadata": {
        "colab": {
          "base_uri": "https://localhost:8080/",
          "height": 434
        },
        "id": "gKQLUKY1dLhB",
        "outputId": "58dc947c-a760-4208-9aa2-5a212033a79b"
      },
      "source": [
        "# Import matplotlib\r\n",
        "import matplotlib.pyplot as plt\r\n",
        "\r\n",
        "# Plot the distribution of `daily_pct_c`\r\n",
        "daily_pct_change.hist(bins=50)\r\n",
        "\r\n",
        "# Show the plot\r\n",
        "plt.show()\r\n",
        "\r\n",
        "# Pull up summary statistics\r\n",
        "print(daily_pct_change.describe())"
      ],
      "execution_count": 34,
      "outputs": [
        {
          "output_type": "display_data",
          "data": {
            "image/png": "[encoded data removed]",
            "text/plain": [
              "<Figure size 432x288 with 1 Axes>"
            ]
          },
          "metadata": {
            "tags": [],
            "needs_background": "light"
          }
        },
        {
          "output_type": "stream",
          "text": [
            "         Adj Close\n",
            "count  2769.000000\n",
            "mean      0.001244\n",
            "std       0.017827\n",
            "min      -0.128647\n",
            "25%      -0.006947\n",
            "50%       0.000952\n",
            "75%       0.010405\n",
            "max       0.119808\n"
          ],
          "name": "stdout"
        }
      ]
    },
    {
      "cell_type": "code",
      "metadata": {
        "colab": {
          "base_uri": "https://localhost:8080/"
        },
        "id": "mU0GApI0d1Y1",
        "outputId": "d794962d-4986-4c9d-82a4-438beadc880b"
      },
      "source": [
        "# Isolate the adjusted closing prices \r\n",
        "adj_close_px = aapl['Adj Close']\r\n",
        "\r\n",
        "# Calculate the moving average\r\n",
        "moving_avg = adj_close_px.rolling(window=20).mean()\r\n",
        "\r\n",
        "# Inspect the result\r\n",
        "print(moving_avg[-10:])"
      ],
      "execution_count": 36,
      "outputs": [
        {
          "output_type": "stream",
          "text": [
            "Date\n",
            "2020-12-17    121.288256\n",
            "2020-12-18    121.688658\n",
            "2020-12-21    122.232345\n",
            "2020-12-22    123.132500\n",
            "2020-12-23    123.920823\n",
            "2020-12-24    124.716634\n",
            "2020-12-28    125.720135\n",
            "2020-12-29    126.509954\n",
            "2020-12-30    127.059134\n",
            "2020-12-31    127.538917\n",
            "Name: Adj Close, dtype: float64\n"
          ],
          "name": "stdout"
        }
      ]
    },
    {
      "cell_type": "code",
      "metadata": {
        "colab": {
          "base_uri": "https://localhost:8080/",
          "height": 269
        },
        "id": "g8OOI8-dd9v7",
        "outputId": "3660a936-b6c1-45e7-8140-60a51a8ea0eb"
      },
      "source": [
        "# Import matplotlib \r\n",
        "import matplotlib.pyplot as plt\r\n",
        "\r\n",
        "# Short moving window rolling mean\r\n",
        "aapl['42'] = adj_close_px.rolling(window=40).mean()\r\n",
        "\r\n",
        "# Long moving window rolling mean\r\n",
        "aapl['252'] = adj_close_px.rolling(window=252).mean()\r\n",
        "\r\n",
        "# Plot the adjusted closing price, the short and long windows of rolling means\r\n",
        "aapl[['Adj Close', '42', '252']].plot()\r\n",
        "\r\n",
        "# Show plot\r\n",
        "plt.show()"
      ],
      "execution_count": 37,
      "outputs": [
        {
          "output_type": "display_data",
          "data": {
            "image/png": "[encoded data removed]",
            "text/plain": [
              "<Figure size 432x288 with 1 Axes>"
            ]
          },
          "metadata": {
            "tags": [],
            "needs_background": "light"
          }
        }
      ]
    },
    {
      "cell_type": "code",
      "metadata": {
        "colab": {
          "base_uri": "https://localhost:8080/",
          "height": 465
        },
        "id": "g92KR7dZeFwv",
        "outputId": "503fdb5e-d97e-408d-fb83-c72a7644fbc8"
      },
      "source": [
        "# Import matplotlib\r\n",
        "import matplotlib.pyplot as plt \r\n",
        "\r\n",
        "# Define the minumum of periods to consider \r\n",
        "min_periods = 20 \r\n",
        "\r\n",
        "# Calculate the volatility\r\n",
        "vol = daily_pct_change.rolling(min_periods).std() * np.sqrt(min_periods) \r\n",
        "\r\n",
        "# Plot the volatility\r\n",
        "vol.plot(figsize=(10, 8))\r\n",
        "\r\n",
        "# Show the plot\r\n",
        "plt.show()"
      ],
      "execution_count": 39,
      "outputs": [
        {
          "output_type": "display_data",
          "data": {
            "image/png": "[encoded data removed]",
            "text/plain": [
              "<Figure size 720x576 with 1 Axes>"
            ]
          },
          "metadata": {
            "tags": [],
            "needs_background": "light"
          }
        }
      ]
    },
    {
      "cell_type": "code",
      "metadata": {
        "colab": {
          "base_uri": "https://localhost:8080/",
          "height": 231
        },
        "id": "Pcm0nTyRezAx",
        "outputId": "254a363a-73ec-4a47-b919-8fbf6b7b568a"
      },
      "source": [
        "# Initialize the short and long windows\r\n",
        "short_window = 40\r\n",
        "long_window = 100\r\n",
        "\r\n",
        "# Initialize the `signals` DataFrame with the `signal` column\r\n",
        "signals = pd.DataFrame(index=aapl.index)\r\n",
        "signals['signal'] = 0.0\r\n",
        "\r\n",
        "# Create short simple moving average over the short window\r\n",
        "signals['short_mavg'] = aapl['Close'].rolling(window=short_window, min_periods=1, center=False).mean()\r\n",
        "\r\n",
        "# Create long simple moving average over the long window\r\n",
        "signals['long_mavg'] = aapl['Close'].rolling(window=long_window, min_periods=1, center=False).mean()\r\n",
        "\r\n",
        "# Create signals\r\n",
        "signals['signal'][short_window:] = np.where(signals['short_mavg'][short_window:]  > signals['long_mavg'][short_window:], 1.0, 0.0)   \r\n",
        "\r\n",
        "# Generate trading orders\r\n",
        "signals['positions'] = signals['signal'].diff()\r\n",
        "\r\n",
        "# Print `signals`\r\n",
        "print(signals)"
      ],
      "execution_count": 45,
      "outputs": [
        {
          "output_type": "error",
          "ename": "NameError",
          "evalue": "ignored",
          "traceback": [
            "\u001b[0;31m---------------------------------------------------------------------------\u001b[0m",
            "\u001b[0;31mNameError\u001b[0m                                 Traceback (most recent call last)",
            "\u001b[0;32m<ipython-input-45-4ad561ac2f30>\u001b[0m in \u001b[0;36m<module>\u001b[0;34m()\u001b[0m\n\u001b[1;32m      4\u001b[0m \u001b[0;34m\u001b[0m\u001b[0m\n\u001b[1;32m      5\u001b[0m \u001b[0;31m# Initialize the `signals` DataFrame with the `signal` column\u001b[0m\u001b[0;34m\u001b[0m\u001b[0;34m\u001b[0m\u001b[0;34m\u001b[0m\u001b[0m\n\u001b[0;32m----> 6\u001b[0;31m \u001b[0msignals\u001b[0m \u001b[0;34m=\u001b[0m \u001b[0mpd\u001b[0m\u001b[0;34m.\u001b[0m\u001b[0mDataFrame\u001b[0m\u001b[0;34m(\u001b[0m\u001b[0mindex\u001b[0m\u001b[0;34m=\u001b[0m\u001b[0maapl\u001b[0m\u001b[0;34m.\u001b[0m\u001b[0mindex\u001b[0m\u001b[0;34m)\u001b[0m\u001b[0;34m\u001b[0m\u001b[0;34m\u001b[0m\u001b[0m\n\u001b[0m\u001b[1;32m      7\u001b[0m \u001b[0msignals\u001b[0m\u001b[0;34m[\u001b[0m\u001b[0;34m'signal'\u001b[0m\u001b[0;34m]\u001b[0m \u001b[0;34m=\u001b[0m \u001b[0;36m0.0\u001b[0m\u001b[0;34m\u001b[0m\u001b[0;34m\u001b[0m\u001b[0m\n\u001b[1;32m      8\u001b[0m \u001b[0;34m\u001b[0m\u001b[0m\n",
            "\u001b[0;31mNameError\u001b[0m: name 'pd' is not defined"
          ]
        }
      ]
    },
    {
      "cell_type": "code",
      "metadata": {
        "colab": {
          "base_uri": "https://localhost:8080/",
          "height": 483
        },
        "id": "jW7wO7f7fgIr",
        "outputId": "26a81b0f-cbf9-4cc1-8dbc-1bba6ef83198"
      },
      "source": [
        "# Import `pyplot` module as `plt`\r\n",
        "import matplotlib.pyplot as plt\r\n",
        "\r\n",
        "# Initialize the plot figure\r\n",
        "fig = plt.figure()\r\n",
        "\r\n",
        "# Add a subplot and label for y-axis\r\n",
        "ax1 = fig.add_subplot(111,  ylabel='Price in $')\r\n",
        "\r\n",
        "# Plot the closing price\r\n",
        "aapl['Close'].plot(ax=ax1, color='r', lw=2.)\r\n",
        "\r\n",
        "# Plot the short and long moving averages\r\n",
        "signals[['short_mavg', 'long_mavg']].plot(ax=ax1, lw=2.)\r\n",
        "\r\n",
        "# Plot the buy signals\r\n",
        "ax1.plot(signals.loc[signals.positions == 1.0].index, \r\n",
        "         signals.short_mavg[signals.positions == 1.0],\r\n",
        "         '^', markersize=10, color='m')\r\n",
        "         \r\n",
        "# Plot the sell signals\r\n",
        "ax1.plot(signals.loc[signals.positions == -1.0].index, \r\n",
        "         signals.short_mavg[signals.positions == -1.0],\r\n",
        "         'v', markersize=10, color='k')\r\n",
        "         \r\n",
        "# Show the plot\r\n",
        "plt.show()"
      ],
      "execution_count": 46,
      "outputs": [
        {
          "output_type": "error",
          "ename": "NameError",
          "evalue": "ignored",
          "traceback": [
            "\u001b[0;31m---------------------------------------------------------------------------\u001b[0m",
            "\u001b[0;31mNameError\u001b[0m                                 Traceback (most recent call last)",
            "\u001b[0;32m<ipython-input-46-76b784ce7616>\u001b[0m in \u001b[0;36m<module>\u001b[0;34m()\u001b[0m\n\u001b[1;32m     12\u001b[0m \u001b[0;34m\u001b[0m\u001b[0m\n\u001b[1;32m     13\u001b[0m \u001b[0;31m# Plot the short and long moving averages\u001b[0m\u001b[0;34m\u001b[0m\u001b[0;34m\u001b[0m\u001b[0;34m\u001b[0m\u001b[0m\n\u001b[0;32m---> 14\u001b[0;31m \u001b[0msignals\u001b[0m\u001b[0;34m[\u001b[0m\u001b[0;34m[\u001b[0m\u001b[0;34m'short_mavg'\u001b[0m\u001b[0;34m,\u001b[0m \u001b[0;34m'long_mavg'\u001b[0m\u001b[0;34m]\u001b[0m\u001b[0;34m]\u001b[0m\u001b[0;34m.\u001b[0m\u001b[0mplot\u001b[0m\u001b[0;34m(\u001b[0m\u001b[0max\u001b[0m\u001b[0;34m=\u001b[0m\u001b[0max1\u001b[0m\u001b[0;34m,\u001b[0m \u001b[0mlw\u001b[0m\u001b[0;34m=\u001b[0m\u001b[0;36m2.\u001b[0m\u001b[0;34m)\u001b[0m\u001b[0;34m\u001b[0m\u001b[0;34m\u001b[0m\u001b[0m\n\u001b[0m\u001b[1;32m     15\u001b[0m \u001b[0;34m\u001b[0m\u001b[0m\n\u001b[1;32m     16\u001b[0m \u001b[0;31m# Plot the buy signals\u001b[0m\u001b[0;34m\u001b[0m\u001b[0;34m\u001b[0m\u001b[0;34m\u001b[0m\u001b[0m\n",
            "\u001b[0;31mNameError\u001b[0m: name 'signals' is not defined"
          ]
        },
        {
          "output_type": "display_data",
          "data": {
            "image/png": "[encoded data removed]",
            "text/plain": [
              "<Figure size 432x288 with 1 Axes>"
            ]
          },
          "metadata": {
            "tags": [],
            "needs_background": "light"
          }
        }
      ]
    },
    {
      "cell_type": "code",
      "metadata": {
        "colab": {
          "base_uri": "https://localhost:8080/",
          "height": 231
        },
        "id": "qwo7fkc_foDJ",
        "outputId": "7a7a85d3-bd21-4926-97a1-0b4fbb812532"
      },
      "source": [
        "# Set the initial capital\r\n",
        "initial_capital= float(100000.0)\r\n",
        "\r\n",
        "# Create a DataFrame `positions`\r\n",
        "positions = pd.DataFrame(index=signals.index).fillna(0.0)\r\n",
        "\r\n",
        "# Buy a 100 shares\r\n",
        "positions['AAPL'] = 100*signals['signal']   \r\n",
        "  \r\n",
        "# Initialize the portfolio with value owned   \r\n",
        "portfolio = positions.multiply(aapl['Adj Close'], axis=0)\r\n",
        "\r\n",
        "# Store the difference in shares owned \r\n",
        "pos_diff = positions.diff()\r\n",
        "\r\n",
        "# Add `holdings` to portfolio\r\n",
        "portfolio['holdings'] = (positions.multiply(aapl['Adj Close'], axis=0)).sum(axis=1)\r\n",
        "\r\n",
        "# Add `cash` to portfolio\r\n",
        "portfolio['cash'] = initial_capital - (pos_diff.multiply(aapl['Adj Close'], axis=0)).sum(axis=1).cumsum()   \r\n",
        "\r\n",
        "# Add `total` to portfolio\r\n",
        "portfolio['total'] = portfolio['cash'] + portfolio['holdings']\r\n",
        "\r\n",
        "# Add `returns` to portfolio\r\n",
        "portfolio['returns'] = portfolio['total'].pct_change()\r\n",
        "\r\n",
        "# Print the first lines of `portfolio`\r\n",
        "print(portfolio.head())"
      ],
      "execution_count": 47,
      "outputs": [
        {
          "output_type": "error",
          "ename": "NameError",
          "evalue": "ignored",
          "traceback": [
            "\u001b[0;31m---------------------------------------------------------------------------\u001b[0m",
            "\u001b[0;31mNameError\u001b[0m                                 Traceback (most recent call last)",
            "\u001b[0;32m<ipython-input-47-810b4aadbf4f>\u001b[0m in \u001b[0;36m<module>\u001b[0;34m()\u001b[0m\n\u001b[1;32m      3\u001b[0m \u001b[0;34m\u001b[0m\u001b[0m\n\u001b[1;32m      4\u001b[0m \u001b[0;31m# Create a DataFrame `positions`\u001b[0m\u001b[0;34m\u001b[0m\u001b[0;34m\u001b[0m\u001b[0;34m\u001b[0m\u001b[0m\n\u001b[0;32m----> 5\u001b[0;31m \u001b[0mpositions\u001b[0m \u001b[0;34m=\u001b[0m \u001b[0mpd\u001b[0m\u001b[0;34m.\u001b[0m\u001b[0mDataFrame\u001b[0m\u001b[0;34m(\u001b[0m\u001b[0mindex\u001b[0m\u001b[0;34m=\u001b[0m\u001b[0msignals\u001b[0m\u001b[0;34m.\u001b[0m\u001b[0mindex\u001b[0m\u001b[0;34m)\u001b[0m\u001b[0;34m.\u001b[0m\u001b[0mfillna\u001b[0m\u001b[0;34m(\u001b[0m\u001b[0;36m0.0\u001b[0m\u001b[0;34m)\u001b[0m\u001b[0;34m\u001b[0m\u001b[0;34m\u001b[0m\u001b[0m\n\u001b[0m\u001b[1;32m      6\u001b[0m \u001b[0;34m\u001b[0m\u001b[0m\n\u001b[1;32m      7\u001b[0m \u001b[0;31m# Buy a 100 shares\u001b[0m\u001b[0;34m\u001b[0m\u001b[0;34m\u001b[0m\u001b[0;34m\u001b[0m\u001b[0m\n",
            "\u001b[0;31mNameError\u001b[0m: name 'pd' is not defined"
          ]
        }
      ]
    }
  ]
}