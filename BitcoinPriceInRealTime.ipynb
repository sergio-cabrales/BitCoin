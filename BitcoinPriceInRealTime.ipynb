{
  "nbformat": 4,
  "nbformat_minor": 0,
  "metadata": {
    "colab": {
      "name": "BitcoinPriceInRealTime.ipynb",
      "provenance": [],
      "authorship_tag": "ABX9TyMql0EZ5GHPHs+e1jODUUeJ",
      "include_colab_link": true
    },
    "kernelspec": {
      "name": "python3",
      "display_name": "Python 3"
    },
    "language_info": {
      "name": "python"
    }
  },
  "cells": [
    {
      "cell_type": "markdown",
      "metadata": {
        "id": "view-in-github",
        "colab_type": "text"
      },
      "source": [
        "<a href=\"https://colab.research.google.com/github/sergio-cabrales/BitCoin/blob/master/BitcoinPriceInRealTime.ipynb\" target=\"_parent\"><img src=\"https://colab.research.google.com/assets/colab-badge.svg\" alt=\"Open In Colab\"/></a>"
      ]
    },
    {
      "cell_type": "code",
      "metadata": {
        "id": "Of-PwO2NtotK"
      },
      "source": [
        "#Description: This program gets the price of crypto currencies in real time"
      ],
      "execution_count": 1,
      "outputs": []
    },
    {
      "cell_type": "code",
      "metadata": {
        "id": "5tRTM7wJt1RA"
      },
      "source": [
        "#Import the libraries \n",
        "from bs4 import BeautifulSoup \n",
        "import requests \n",
        "import time"
      ],
      "execution_count": 2,
      "outputs": []
    },
    {
      "cell_type": "code",
      "metadata": {
        "id": "xVrQF1F1t-x0"
      },
      "source": [
        "#Create a function to get the price of a cryptocurrency\n",
        "def get_crypto_price(coin):\n",
        "#Get the URL\n",
        "    url = \"https://www.google.com.co/search?q=\"+coin+\"+price\"\n",
        "    \n",
        "    #Make a request to the website\n",
        "    HTML = requests.get(url) \n",
        "  \n",
        "    #Parse the HTML\n",
        "    soup = BeautifulSoup(HTML.text, 'html.parser') \n",
        "  \n",
        "    #Find the current price \n",
        "    #text = soup.find(\"div\", attrs={'class':'BNeawe iBp4i AP7Wnd'}).text\n",
        "    text = soup.find(\"div\", attrs={'class':'BNeawe iBp4i AP7Wnd'}).find(\"div\", attrs={'class':'BNeawe iBp4i AP7Wnd'}).text\n",
        "#Return the text \n",
        "    return text"
      ],
      "execution_count": 6,
      "outputs": []
    },
    {
      "cell_type": "code",
      "metadata": {
        "id": "OaGBOftmuJhT"
      },
      "source": [
        "#Create a main function to consistently show the price of the cryptocurrency\n",
        "def main():\n",
        "  #Set the last price to negative one\n",
        "  last_price = -1\n",
        "  #Create an infinite loop to continuously show the price\n",
        "  while True:\n",
        "    #Choose the cryptocurrency that you want to get the price of (e.g. bitcoin, litecoin)\n",
        "    crypto = 'bitcoin' \n",
        "    #Get the price of the crypto currency\n",
        "    price = get_crypto_price(crypto)\n",
        "    #Check if the price changed\n",
        "    if price != last_price:\n",
        "      print(crypto+' price: ',price) #Print the price\n",
        "      last_price = price #Update the last price\n",
        "    time.sleep(3) #Suspend execution for 3 seconds."
      ],
      "execution_count": 7,
      "outputs": []
    },
    {
      "cell_type": "code",
      "metadata": {
        "colab": {
          "base_uri": "https://localhost:8080/",
          "height": 327
        },
        "id": "DnwIl8XPuLej",
        "outputId": "0b0ae424-b716-4591-8f53-0d026b17c23c"
      },
      "source": [
        "main()"
      ],
      "execution_count": 8,
      "outputs": [
        {
          "output_type": "stream",
          "text": [
            "bitcoin price:  50.711,39 Euro\n",
            "bitcoin price:  50.714,96 Euro\n",
            "bitcoin price:  50.718,97 Euro\n",
            "bitcoin price:  50.716,29 Euro\n"
          ],
          "name": "stdout"
        },
        {
          "output_type": "error",
          "ename": "KeyboardInterrupt",
          "evalue": "ignored",
          "traceback": [
            "\u001b[0;31m---------------------------------------------------------------------------\u001b[0m",
            "\u001b[0;31mKeyboardInterrupt\u001b[0m                         Traceback (most recent call last)",
            "\u001b[0;32m<ipython-input-8-263240bbee7e>\u001b[0m in \u001b[0;36m<module>\u001b[0;34m()\u001b[0m\n\u001b[0;32m----> 1\u001b[0;31m \u001b[0mmain\u001b[0m\u001b[0;34m(\u001b[0m\u001b[0;34m)\u001b[0m\u001b[0;34m\u001b[0m\u001b[0;34m\u001b[0m\u001b[0m\n\u001b[0m",
            "\u001b[0;32m<ipython-input-7-ca1bd76120ed>\u001b[0m in \u001b[0;36mmain\u001b[0;34m()\u001b[0m\n\u001b[1;32m     13\u001b[0m       \u001b[0mprint\u001b[0m\u001b[0;34m(\u001b[0m\u001b[0mcrypto\u001b[0m\u001b[0;34m+\u001b[0m\u001b[0;34m' price: '\u001b[0m\u001b[0;34m,\u001b[0m\u001b[0mprice\u001b[0m\u001b[0;34m)\u001b[0m \u001b[0;31m#Print the price\u001b[0m\u001b[0;34m\u001b[0m\u001b[0;34m\u001b[0m\u001b[0m\n\u001b[1;32m     14\u001b[0m       \u001b[0mlast_price\u001b[0m \u001b[0;34m=\u001b[0m \u001b[0mprice\u001b[0m \u001b[0;31m#Update the last price\u001b[0m\u001b[0;34m\u001b[0m\u001b[0;34m\u001b[0m\u001b[0m\n\u001b[0;32m---> 15\u001b[0;31m     \u001b[0mtime\u001b[0m\u001b[0;34m.\u001b[0m\u001b[0msleep\u001b[0m\u001b[0;34m(\u001b[0m\u001b[0;36m3\u001b[0m\u001b[0;34m)\u001b[0m \u001b[0;31m#Suspend execution for 3 seconds.\u001b[0m\u001b[0;34m\u001b[0m\u001b[0;34m\u001b[0m\u001b[0m\n\u001b[0m",
            "\u001b[0;31mKeyboardInterrupt\u001b[0m: "
          ]
        }
      ]
    }
  ]
}